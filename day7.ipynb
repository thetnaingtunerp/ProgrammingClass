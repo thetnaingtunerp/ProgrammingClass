{
 "cells": [
  {
   "cell_type": "code",
   "execution_count": 1,
   "id": "96e3beb2",
   "metadata": {},
   "outputs": [],
   "source": [
    "import ttkbootstrap as ttk\n",
    "from ttkbootstrap.constants import *\n",
    "\n",
    "root = ttk.Window()\n",
    "\n",
    "b1 = ttk.Button(root, text='primary', bootstyle=PRIMARY)\n",
    "b1.pack(side=LEFT, padx=5, pady=5)\n",
    "\n",
    "b2 = ttk.Button(root, text='secondary', bootstyle=SECONDARY)\n",
    "b2.pack(side=LEFT, padx=5, pady=5)\n",
    "\n",
    "b3 = ttk.Button(root, text='success', bootstyle=\"success outline\")\n",
    "b3.pack(side=LEFT, padx=5, pady=5)\n",
    "\n",
    "b4 = ttk.Button(root, text='info', bootstyle=\"info outline\")\n",
    "b4.pack(side=LEFT, padx=5, pady=5)\n",
    "\n",
    "b5 = ttk.Button(root, text='warning', bootstyle=WARNING)\n",
    "b5.pack(side=LEFT, padx=5, pady=5)\n",
    "\n",
    "b6 = ttk.Button(root, text='danger', bootstyle=DANGER)\n",
    "b6.pack(side=LEFT, padx=5, pady=5)\n",
    "\n",
    "b7 = ttk.Button(root, text='light', bootstyle=LIGHT)\n",
    "b7.pack(side=LEFT, padx=5, pady=5)\n",
    "\n",
    "b8 = ttk.Button(root, text='dark', bootstyle=DARK)\n",
    "b8.pack(side=LEFT, padx=5, pady=5)\n",
    "\n",
    "\n",
    "l1=ttk.Label(text='helo', bootstyle='success')\n",
    "l1.pack()\n",
    "\n",
    "\n",
    "root.mainloop()"
   ]
  }
 ],
 "metadata": {
  "kernelspec": {
   "display_name": ".venv (3.12.7)",
   "language": "python",
   "name": "python3"
  },
  "language_info": {
   "codemirror_mode": {
    "name": "ipython",
    "version": 3
   },
   "file_extension": ".py",
   "mimetype": "text/x-python",
   "name": "python",
   "nbconvert_exporter": "python",
   "pygments_lexer": "ipython3",
   "version": "3.12.7"
  }
 },
 "nbformat": 4,
 "nbformat_minor": 5
}

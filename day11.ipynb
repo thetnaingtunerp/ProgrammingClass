{
 "cells": [
  {
   "cell_type": "code",
   "execution_count": null,
   "id": "9f138bde",
   "metadata": {},
   "outputs": [],
   "source": [
    "# function base \n",
    "# class base"
   ]
  },
  {
   "cell_type": "code",
   "execution_count": null,
   "id": "be204cfa",
   "metadata": {},
   "outputs": [],
   "source": [
    "def deletedata():\n",
    "    name = \"mg mg\"\n",
    "    age = 10\n",
    "    print(\"Data Deleted\")\n",
    "    \n",
    "    \n",
    "deletedata()"
   ]
  },
  {
   "cell_type": "code",
   "execution_count": null,
   "id": "205af7b0",
   "metadata": {},
   "outputs": [],
   "source": [
    "class MyClass: #className\n",
    "    name = \"mg mg\"  #attribute\n",
    "    age = 10        #attribute\n",
    "    \n",
    "    def deletedata():   #method\n",
    "        print('Hello')\n",
    "\n",
    "MyClass()"
   ]
  },
  {
   "cell_type": "code",
   "execution_count": 3,
   "id": "25a91056",
   "metadata": {},
   "outputs": [
    {
     "name": "stdout",
     "output_type": "stream",
     "text": [
      "Welcome....\n",
      "This is Class...\n"
     ]
    }
   ],
   "source": [
    "def hello():\n",
    "    print(\"Welcome....\")\n",
    "    \n",
    "hello()\n",
    "\n",
    "class MyClass:\n",
    "    def __str__(self):\n",
    "        return \"This is Class...\"\n",
    "    \n",
    "c =MyClass()\n",
    "print(c)"
   ]
  }
 ],
 "metadata": {
  "kernelspec": {
   "display_name": ".venv (3.12.7)",
   "language": "python",
   "name": "python3"
  },
  "language_info": {
   "codemirror_mode": {
    "name": "ipython",
    "version": 3
   },
   "file_extension": ".py",
   "mimetype": "text/x-python",
   "name": "python",
   "nbconvert_exporter": "python",
   "pygments_lexer": "ipython3",
   "version": "3.12.7"
  }
 },
 "nbformat": 4,
 "nbformat_minor": 5
}

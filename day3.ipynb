{
 "cells": [
  {
   "cell_type": "code",
   "execution_count": null,
   "id": "0874a429",
   "metadata": {},
   "outputs": [],
   "source": [
    "# array 1D,2D,3D\n",
    "# python data array type \n",
    "# tuple, list, set, dict{'keys':values}\n",
    " \n",
    "# filename.ipynb\n",
    "#filename.py\n",
    "name = 'mgmg'\n",
    "name1 = ['mg mg', 'aung aung', 'kyaw kyaw', 20,2.5] #list\n",
    "name2 = ('mg mg', 'aung aung', 'kyaw kyaw', 20,2.5) #tuple\n",
    "name3 = {'mg mg', 'aung aung', 'kyaw kyaw', 20,2.5} #set\n",
    "name4 = {'name':'Mg Mg', 'phone':'09874321'} #dict\n",
    "\n",
    "print(type(name3))\n",
    "print(name3)"
   ]
  },
  {
   "cell_type": "code",
   "execution_count": null,
   "id": "f9f8afc5",
   "metadata": {},
   "outputs": [],
   "source": [
    "mydict = {\n",
    "    'name':'mg mg', \n",
    "    'bod':2000, \n",
    "    'mark':10.5,\n",
    "    'email':'abcdef@gmail.com'\n",
    "    }\n",
    "print(mydict['email'])\n",
    "print(mydict.keys())\n",
    "print(mydict.values())"
   ]
  },
  {
   "cell_type": "code",
   "execution_count": null,
   "id": "3c91e98c",
   "metadata": {},
   "outputs": [],
   "source": [
    "name1 = ['mg mg', 'aung aung', 'kyaw kyaw']\n",
    "# append()\n",
    "name1.append('aye aye')\n",
    "\n",
    "# insert()\n",
    "name1.insert(2,'aye aye')\n",
    "\n",
    "# remove()\n",
    "print(name1)"
   ]
  },
  {
   "cell_type": "code",
   "execution_count": null,
   "id": "8127dab2",
   "metadata": {},
   "outputs": [],
   "source": [
    "name1 = ['mg mg', 'aung aung', 'kyaw kyaw']\n",
    "# remove()\n",
    "# pop()\n",
    "# clear()\n",
    "# name1.remove('aung aung')\n",
    "name1.pop(0)\n",
    "name1.clear()\n",
    "\n",
    "print(name1)\n"
   ]
  },
  {
   "cell_type": "code",
   "execution_count": null,
   "id": "878b85d7",
   "metadata": {},
   "outputs": [],
   "source": [
    "mytuple = (10, 20, 'mgmg')\n",
    "mytuple.remove('aung aung')\n"
   ]
  },
  {
   "cell_type": "code",
   "execution_count": null,
   "id": "ecdf7be5",
   "metadata": {},
   "outputs": [],
   "source": [
    "mydic = {\n",
    "    'key':'values',\n",
    "    'name': 'Mg Mg',\n",
    "    'age': 40\n",
    "    }\n",
    "mydic['email'] = 'abc@gmail.com'\n",
    "mydic['name'] = 'Aung Aung'\n",
    "\n",
    "mydic.update({'age':50})\n",
    "print(mydic)\n"
   ]
  },
  {
   "cell_type": "code",
   "execution_count": null,
   "id": "a66b3a67",
   "metadata": {},
   "outputs": [],
   "source": [
    "mydic = {\n",
    "    'key':'values',\n",
    "    'name': 'Mg Mg',\n",
    "    'age': 40\n",
    "    }\n",
    "\n",
    "mydic.pop('age')\n",
    "# mydic.popitem()\n",
    "mydic.clear()\n",
    "\n",
    "print(mydic)"
   ]
  },
  {
   "cell_type": "code",
   "execution_count": null,
   "id": "c7e86a04",
   "metadata": {},
   "outputs": [],
   "source": [
    "# control flow \n",
    "# if condition\n",
    "# match \n",
    "# while "
   ]
  },
  {
   "cell_type": "code",
   "execution_count": null,
   "id": "ac09cf8f",
   "metadata": {},
   "outputs": [],
   "source": [
    "if condition:\n",
    "    output exp "
   ]
  },
  {
   "cell_type": "code",
   "execution_count": null,
   "id": "10f86187",
   "metadata": {},
   "outputs": [],
   "source": [
    "x = int(input('Enter a Number : '))\n",
    "if x > 100:\n",
    "    print('x is greater than 100')\n",
    "\n",
    "elif x >80:   \n",
    "    print('x is greater than 80')\n",
    "\n",
    "elif x >50:   \n",
    "    print('x is greater than 50')\n",
    "\n",
    "else:\n",
    "    print('x less than 100')"
   ]
  },
  {
   "cell_type": "code",
   "execution_count": null,
   "id": "97bfbeaf",
   "metadata": {},
   "outputs": [],
   "source": [
    "username = input('enter username :')\n",
    "password = input('enter password')\n",
    "\n",
    "time = 0\n",
    "# Login \n",
    "if username == 'admin' and password =='1234':\n",
    "    print('logi success')\n",
    "\n",
    "else:\n",
    "    time +=1\n",
    "    if time > 3:\n",
    "        print('try 3 days')\n",
    "\n",
    "    \n"
   ]
  },
  {
   "cell_type": "code",
   "execution_count": null,
   "id": "79480981",
   "metadata": {},
   "outputs": [],
   "source": [
    "# for \n",
    "# while\n",
    "# loop \n",
    "for i in range(20):\n",
    "    print('Mg Mg')"
   ]
  },
  {
   "cell_type": "code",
   "execution_count": null,
   "id": "21c4a423",
   "metadata": {},
   "outputs": [],
   "source": [
    "list= ['mg mg', 'aung aung',  'aye aye']\n",
    "for i in list:\n",
    "    if i == 'kyaw kyaw':\n",
    "        print('Here this is kyaw')\n",
    "    \n",
    "#output\n"
   ]
  },
  {
   "cell_type": "code",
   "execution_count": null,
   "id": "64d2a834",
   "metadata": {},
   "outputs": [],
   "source": [
    "# function \n",
    "# def \n",
    "a = int(input('enter a number :'))\n",
    "b = int(input('enter b number :'))\n",
    "\n",
    "def nayaunglin():\n",
    "    x = a + b\n",
    "    print(x)\n",
    "\n",
    "def multiply():\n",
    "    print(a*b)\n",
    "      \n",
    "nayaunglin()\n",
    "multiply()"
   ]
  },
  {
   "cell_type": "code",
   "execution_count": null,
   "id": "7a2e71fa",
   "metadata": {},
   "outputs": [],
   "source": [
    "# tkinter \n",
    "!pip install tkinter\n",
    "\n",
    "import tkinter\n",
    "\n",
    "myapp = tkinter.Tk()  #screen\n",
    "myapp.title('this is first application')\n",
    "myapp.geometry('500x500')\n",
    "\n",
    "myapp.mainloop()      #display software\n",
    "\n"
   ]
  },
  {
   "cell_type": "code",
   "execution_count": null,
   "id": "23d94105",
   "metadata": {},
   "outputs": [],
   "source": [
    "list = ['aye aye', 'mg mg', 'aung aung', 'kyaw kyaw', 33,34]\n",
    "for i in list:\n",
    "    if i =='mg mg' or i == 'aung aung':\n",
    "        pass\n",
    "    else:\n",
    "        list.remove(i)\n",
    "\n",
    "print(list)\n",
    "    "
   ]
  }
 ],
 "metadata": {
  "kernelspec": {
   "display_name": ".venv (3.12.7)",
   "language": "python",
   "name": "python3"
  },
  "language_info": {
   "codemirror_mode": {
    "name": "ipython",
    "version": 3
   },
   "file_extension": ".py",
   "mimetype": "text/x-python",
   "name": "python",
   "nbconvert_exporter": "python",
   "pygments_lexer": "ipython3",
   "version": "3.12.7"
  }
 },
 "nbformat": 4,
 "nbformat_minor": 5
}

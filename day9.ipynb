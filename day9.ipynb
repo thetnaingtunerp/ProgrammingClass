{
 "cells": [
  {
   "cell_type": "code",
   "execution_count": 1,
   "id": "3811831d",
   "metadata": {},
   "outputs": [
    {
     "name": "stdout",
     "output_type": "stream",
     "text": [
      "Requirement already satisfied: ttkbootstrap in c:\\users\\e15\\pycharmprojects\\programmingclass\\.venv\\lib\\site-packages (1.14.2)\n",
      "Requirement already satisfied: pillow<11,>=10 in c:\\users\\e15\\pycharmprojects\\programmingclass\\.venv\\lib\\site-packages (from ttkbootstrap) (10.4.0)\n"
     ]
    },
    {
     "name": "stderr",
     "output_type": "stream",
     "text": [
      "\n",
      "[notice] A new release of pip is available: 25.1.1 -> 25.2\n",
      "[notice] To update, run: python.exe -m pip install --upgrade pip\n"
     ]
    }
   ],
   "source": [
    "!pip install ttkbootstrap\n",
    "\n",
    "import ttkbootstrap as ttk\n",
    "from ttkbootstrap.tableview import Tableview\n",
    "from ttkbootstrap.constants import *\n",
    "import sqlite3\n",
    "\n",
    "\n",
    "\n",
    "app = ttk.Window()\n",
    "colors = app.style.colors\n",
    "\n",
    "coldata = [\n",
    "    {\"text\": \"ID\", \"stretch\": False},\n",
    "    \"Name\",\n",
    "    {\"text\": \"Phone Number\", \"stretch\": False},\n",
    "    {\"text\": \"Address\", \"stretch\": False},\n",
    "]\n",
    "\n",
    "rowdata = []\n",
    "\n",
    "dt = Tableview(\n",
    "    master=app,\n",
    "    coldata=coldata,\n",
    "    rowdata=rowdata,\n",
    "    paginated=True,\n",
    "    searchable=True,\n",
    "    bootstyle=PRIMARY,\n",
    "    stripecolor=(colors.light, None),\n",
    ")\n",
    "dt.pack(fill=BOTH, expand=YES, padx=10, pady=10)\n",
    "\n",
    "def student_data():\n",
    "    mydb = sqlite3.connect('myfirstdb.db') #create database\n",
    "    cur = mydb.cursor()   #open dbfile\n",
    "    results =cur.execute(\"select * from student\")\n",
    "    for i in results:\n",
    "        dt.insert_row('end', [i[0], i[1], i[2], i[3]])\n",
    "    \n",
    "\n",
    "student_data()\n",
    "\n",
    "app.mainloop()"
   ]
  }
 ],
 "metadata": {
  "kernelspec": {
   "display_name": ".venv (3.12.7)",
   "language": "python",
   "name": "python3"
  },
  "language_info": {
   "codemirror_mode": {
    "name": "ipython",
    "version": 3
   },
   "file_extension": ".py",
   "mimetype": "text/x-python",
   "name": "python",
   "nbconvert_exporter": "python",
   "pygments_lexer": "ipython3",
   "version": "3.12.7"
  }
 },
 "nbformat": 4,
 "nbformat_minor": 5
}

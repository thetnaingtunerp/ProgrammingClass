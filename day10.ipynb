{
 "cells": [
  {
   "cell_type": "code",
   "execution_count": null,
   "id": "5e402386",
   "metadata": {},
   "outputs": [],
   "source": [
    "# Object Oriented\n",
    "# class (arguments):\n",
    "# def(arguments))\n",
    "# .ipynb file"
   ]
  },
  {
   "cell_type": "code",
   "execution_count": null,
   "id": "d7d5f45e",
   "metadata": {},
   "outputs": [],
   "source": [
    "def myfunc(name):\n",
    "    print(\"Hello from a function\")\n",
    "    \n",
    "myfunc(name='mgmg')"
   ]
  },
  {
   "cell_type": "code",
   "execution_count": null,
   "id": "89803778",
   "metadata": {},
   "outputs": [],
   "source": [
    "class Parent1:\n",
    "    def __init__(self, name, age):\n",
    "        self.name=name\n",
    "        \n",
    "    def mgmg(self):\n",
    "        print(\"Mg Mg is Working\")\n",
    "        \n",
    "    def aungaung(self):\n",
    "        print(\"Aung Aung is Sleeping\")\n",
    "        \n",
    "    def __str__(self):\n",
    "        return \"this is string return\"\n",
    "        \n",
    "\n",
    "p1 = Parent1(name=\"Mg Mg\")\n",
    "\n",
    "print(p1.mgmg())"
   ]
  }
 ],
 "metadata": {
  "kernelspec": {
   "display_name": ".venv (3.12.7)",
   "language": "python",
   "name": "python3"
  },
  "language_info": {
   "codemirror_mode": {
    "name": "ipython",
    "version": 3
   },
   "file_extension": ".py",
   "mimetype": "text/x-python",
   "name": "python",
   "nbconvert_exporter": "python",
   "pygments_lexer": "ipython3",
   "version": "3.12.7"
  }
 },
 "nbformat": 4,
 "nbformat_minor": 5
}

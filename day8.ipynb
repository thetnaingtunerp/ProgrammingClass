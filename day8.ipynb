{
 "cells": [
  {
   "cell_type": "code",
   "execution_count": null,
   "id": "68e8da46",
   "metadata": {},
   "outputs": [],
   "source": [
    "import sqlite3\n",
    "mydb = sqlite3.connect('myfirstdb.db') #create database\n",
    "\n",
    "cur = mydb.cursor()   #open dbfile\n",
    "\n",
    "\n",
    "cur.execute(\"CREATE TABLE if not exists student(id INTEGER PRIMARY KEY AUTOINCREMENT,Name TEXT,Phone TEXT,Address TEXT)\")\n",
    "cur.execute(\"CREATE TABLE if not exists parent(id INTEGER PRIMARY KEY AUTOINCREMENT,Name TEXT,Phone TEXT,Address TEXT)\")\n",
    "\n",
    "# cur.execute(\"insert into student(Name,Phone,Address) values('Mg1 Mg1', '123123','mandaly')\")\n",
    "cur.execute(\"insert into parent(Name,Phone,Address) values('Mg1 Mg1', '123123','mandaly')\")\n",
    "\n",
    "mydb.commit()  #data save\n",
    "cur.close()\n"
   ]
  },
  {
   "cell_type": "markdown",
   "id": "eea0af04",
   "metadata": {},
   "source": [
    "DELETE FROM tablename WHERE colname='mangday'"
   ]
  },
  {
   "cell_type": "code",
   "execution_count": null,
   "id": "26f9693c",
   "metadata": {},
   "outputs": [],
   "source": [
    "cur = mydb.cursor()   #open dbfile\n",
    "\n",
    "# cur.execute(\"deLete from student where Address='yangon'\")\n",
    "cur.execute(\"UPDATE student SET Name='Aung Aung', Address='Sagaing' WHERE id=5 \")\n",
    "\n",
    "mydb.commit()  #data save\n",
    "cur.close()\n"
   ]
  },
  {
   "cell_type": "code",
   "execution_count": 4,
   "id": "02020c60",
   "metadata": {},
   "outputs": [
    {
     "name": "stdout",
     "output_type": "stream",
     "text": [
      "(5, 'Aung Aung', '123123', 'Sagaing')\n",
      "(6, 'Mg1 Mg1', '123123', 'mandaly')\n",
      "(7, 'Mg1 Mg1', '123123', 'mandaly')\n"
     ]
    }
   ],
   "source": [
    "import sqlite3\n",
    "mydb = sqlite3.connect('myfirstdb.db') #create database\n",
    "cur = mydb.cursor()   #open dbfile\n",
    "\n",
    "# SELECT col_name, ... FROM tablename\n",
    "results =cur.execute(\"select * from student\")\n",
    "\n",
    "for i in results:\n",
    "    print(i)\n",
    "\n",
    "mydb.commit()  #data save\n",
    "cur.close()"
   ]
  }
 ],
 "metadata": {
  "kernelspec": {
   "display_name": ".venv (3.12.7)",
   "language": "python",
   "name": "python3"
  },
  "language_info": {
   "codemirror_mode": {
    "name": "ipython",
    "version": 3
   },
   "file_extension": ".py",
   "mimetype": "text/x-python",
   "name": "python",
   "nbconvert_exporter": "python",
   "pygments_lexer": "ipython3",
   "version": "3.12.7"
  }
 },
 "nbformat": 4,
 "nbformat_minor": 5
}

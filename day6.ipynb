{
 "cells": [
  {
   "cell_type": "code",
   "execution_count": 13,
   "id": "b9399ed1",
   "metadata": {},
   "outputs": [],
   "source": [
    "import tkinter as tk\n",
    "\n",
    "sc = tk.Tk()\n",
    "sc.title('this is Day 6')\n",
    "sc.geometry('400x400')\n",
    "# pack() top, center\n",
    "\n",
    "text = tk.Label(text='helo world')\n",
    "text.pack(side='top') #top, bottom, left , right\n",
    "\n",
    "text2 = tk.Label(text= 'this is second')\n",
    "# text2.grid(row=3, column=5) #row, col\n",
    "text2.place(x=250, y=300)\n",
    "\n",
    "sc.mainloop()"
   ]
  },
  {
   "cell_type": "code",
   "execution_count": 22,
   "id": "1f98c823",
   "metadata": {},
   "outputs": [],
   "source": [
    "import tkinter as tk\n",
    "\n",
    "sc = tk.Tk()\n",
    "sc.title('this is Day 6')\n",
    "sc.geometry('400x400')\n",
    "\n",
    "input = tk.Entry()\n",
    "input.grid(row=1, column=1, columnspan=3)\n",
    "\n",
    "no1 = tk.Button(text='1', padx=15)\n",
    "no2 = tk.Button(text='2', padx=15)\n",
    "no3 = tk.Button(text='3', padx=15)\n",
    "no4 = tk.Button(text='4', padx=15)\n",
    "\n",
    "no1.grid(row=2, column=1)\n",
    "no2.grid(row=2, column=2)\n",
    "no3.grid(row=2, column=4)\n",
    "no4.grid(row=3, column=1)\n",
    "\n",
    "sc.mainloop()"
   ]
  }
 ],
 "metadata": {
  "kernelspec": {
   "display_name": ".venv (3.12.7)",
   "language": "python",
   "name": "python3"
  },
  "language_info": {
   "codemirror_mode": {
    "name": "ipython",
    "version": 3
   },
   "file_extension": ".py",
   "mimetype": "text/x-python",
   "name": "python",
   "nbconvert_exporter": "python",
   "pygments_lexer": "ipython3",
   "version": "3.12.7"
  }
 },
 "nbformat": 4,
 "nbformat_minor": 5
}

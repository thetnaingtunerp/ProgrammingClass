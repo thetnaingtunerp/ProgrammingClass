{
 "cells": [
  {
   "cell_type": "code",
   "execution_count": 13,
   "id": "b9399ed1",
   "metadata": {},
   "outputs": [],
   "source": [
    "import tkinter as tk\n",
    "\n",
    "sc = tk.Tk()\n",
    "sc.title('this is Day 6')\n",
    "sc.geometry('400x400')\n",
    "# pack() top, center\n",
    "\n",
    "text = tk.Label(text='helo world')\n",
    "text.pack(side='top') #top, bottom, left , right\n",
    "\n",
    "text2 = tk.Label(text= 'this is second')\n",
    "# text2.grid(row=3, column=5) #row, col\n",
    "text2.place(x=250, y=300)\n",
    "\n",
    "sc.mainloop()"
   ]
  },
  {
   "cell_type": "code",
   "execution_count": null,
   "id": "1f98c823",
   "metadata": {},
   "outputs": [
    {
     "name": "stderr",
     "output_type": "stream",
     "text": [
      "Exception in Tkinter callback\n",
      "Traceback (most recent call last):\n",
      "  File \"C:\\Program Files\\Python312\\Lib\\tkinter\\__init__.py\", line 1968, in __call__\n",
      "    return self.func(*args)\n",
      "           ^^^^^^^^^^^^^^^^\n",
      "  File \"C:\\Users\\E15\\AppData\\Local\\Temp\\ipykernel_18848\\1575778255.py\", line 20, in <lambda>\n",
      "    no1 = tk.Button(text='1', padx=15, command=lambda:press(1))\n",
      "                                                      ^^^^^^^^\n",
      "  File \"C:\\Users\\E15\\AppData\\Local\\Temp\\ipykernel_18848\\1575778255.py\", line 11, in press\n",
      "    input.set(ex)\n",
      "    ^^^^^^^^^\n",
      "AttributeError: 'Entry' object has no attribute 'set'. Did you mean: 'get'?\n",
      "Exception in Tkinter callback\n",
      "Traceback (most recent call last):\n",
      "  File \"C:\\Program Files\\Python312\\Lib\\tkinter\\__init__.py\", line 1968, in __call__\n",
      "    return self.func(*args)\n",
      "           ^^^^^^^^^^^^^^^^\n",
      "  File \"C:\\Users\\E15\\AppData\\Local\\Temp\\ipykernel_18848\\1575778255.py\", line 21, in <lambda>\n",
      "    no2 = tk.Button(text='2', padx=15, command=lambda:press(2))\n",
      "                                                      ^^^^^^^^\n",
      "  File \"C:\\Users\\E15\\AppData\\Local\\Temp\\ipykernel_18848\\1575778255.py\", line 11, in press\n",
      "    input.set(ex)\n",
      "    ^^^^^^^^^\n",
      "AttributeError: 'Entry' object has no attribute 'set'. Did you mean: 'get'?\n"
     ]
    }
   ],
   "source": [
    "import tkinter as tk\n",
    "\n",
    "sc = tk.Tk()\n",
    "sc.title('this is Day 6')\n",
    "sc.geometry('400x400')\n",
    "\n",
    "ex = \"\"\n",
    "def press(num):\n",
    "    global ex\n",
    "    ex = str(num)\n",
    "    input.insert(0,ex)\n",
    "    \n",
    "    \n",
    "\n",
    "input = tk.Entry()\n",
    "input.grid(columnspan=4)\n",
    "\n",
    "# input.insert(0,'helo')\n",
    "\n",
    "no1 = tk.Button(text='1', padx=15, command=lambda:press(1))\n",
    "no2 = tk.Button(text='2', padx=15, command=lambda:press(2))\n",
    "no3 = tk.Button(text='3', padx=15, command=lambda:press(3))\n",
    "no4 = tk.Button(text='4', padx=15, command=lambda:press(4))\n",
    "\n",
    "eq = tk.Button(text='=', padx=15, bg='green')\n",
    "plus = tk.Button(text='+', padx=15, command=lambda:press(\"+\"))\n",
    "m = tk.Button(text='-', padx=15)\n",
    "multi = tk.Button(text='*', padx=15)\n",
    "div = tk.Button(text='/', padx=15)\n",
    "\n",
    "no1.grid(row=2, column=1)\n",
    "no2.grid(row=2, column=2)\n",
    "no3.grid(row=2, column=3)\n",
    "no4.grid(row=3, column=1)\n",
    "\n",
    "eq.grid(row=4, column=1)\n",
    "plus.grid(row=4, column=2)\n",
    "m.grid(row=4, column=3)\n",
    "\n",
    "sc.mainloop()"
   ]
  }
 ],
 "metadata": {
  "kernelspec": {
   "display_name": ".venv (3.12.7)",
   "language": "python",
   "name": "python3"
  },
  "language_info": {
   "codemirror_mode": {
    "name": "ipython",
    "version": 3
   },
   "file_extension": ".py",
   "mimetype": "text/x-python",
   "name": "python",
   "nbconvert_exporter": "python",
   "pygments_lexer": "ipython3",
   "version": "3.12.7"
  }
 },
 "nbformat": 4,
 "nbformat_minor": 5
}

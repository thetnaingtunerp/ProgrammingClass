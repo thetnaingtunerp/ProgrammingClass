{
 "cells": [
  {
   "cell_type": "markdown",
   "id": "c0154166",
   "metadata": {},
   "source": [
    "pack\n",
    "grid\n",
    "place"
   ]
  },
  {
   "cell_type": "code",
   "execution_count": null,
   "id": "4b587133",
   "metadata": {},
   "outputs": [],
   "source": [
    "#  pip install tkinter\n",
    "import tkinter as tk\n",
    "\n",
    "myapp = tk.Tk()  #screen\n",
    "myapp.title('this is first application')\n",
    "myapp.geometry('500x500')\n",
    "\n",
    "lbl = tk.Label(text='this is first Label ....', font=('arial', 15))\n",
    "lbl.pack()\n",
    "\n",
    "secondLbl = tk.Label(text='this is second line.')\n",
    "secondLbl.pack()\n",
    "\n",
    "myBtn = tk.Button(text='login' ,bg='green', fg='red')\n",
    "myBtn.pack()\n",
    "\n",
    "thirdLine = tk.Label(text='hello world')\n",
    "thirdLine.pack()\n",
    "\n",
    "myapp.mainloop()      #display software\n",
    "\n"
   ]
  },
  {
   "cell_type": "code",
   "execution_count": null,
   "id": "2814dcb3",
   "metadata": {},
   "outputs": [],
   "source": [
    "import tkinter as tk \n",
    "\n",
    "myscreen = tk.Tk()\n",
    "myscreen.title('this is second example')\n",
    "myscreen.geometry('500x500')\n",
    "myscreen.resizable(False, True)\n",
    "\n",
    "\n",
    "\n",
    "head = tk.Label(text='Login Form', font=('arial', 20))\n",
    "head.pack()\n",
    "username = tk.Label(text='Username')\n",
    "username.pack()\n",
    "\n",
    "entbox = tk.Entry()\n",
    "entbox.pack()\n",
    "    \n",
    "\n",
    "passlbl = tk.Label(text='Password')\n",
    "passinput = tk.Entry(show='*')\n",
    "\n",
    "passlbl.pack()\n",
    "passinput.pack()\n",
    "\n",
    "def btnClick():\n",
    "    user = entbox.get()\n",
    "    print(user)\n",
    "  \n",
    "def signup():\n",
    "    print('this signup fun') \n",
    "\n",
    "\n",
    "myBtn = tk.Button(text='login' ,bg='green', fg='red', command=btnClick)\n",
    "myBtn.pack()\n",
    "\n",
    "btn1 = tk.Button(text='signup' ,bg='green', fg='red', command=signup)\n",
    "btn1.pack()\n",
    "\n",
    "\n",
    "    \n",
    "myscreen.mainloop()"
   ]
  },
  {
   "cell_type": "code",
   "execution_count": 1,
   "id": "9449f9bf",
   "metadata": {},
   "outputs": [
    {
     "name": "stdout",
     "output_type": "stream",
     "text": [
      "25\n"
     ]
    }
   ],
   "source": [
    "import tkinter as tk\n",
    "\n",
    "sc = tk.Tk()\n",
    "sc.title('this example')\n",
    "sc.geometry('300x300')\n",
    "\n",
    "def click():\n",
    "    num = ent.get()\n",
    "    print(num)\n",
    "\n",
    "ent = tk.Entry()\n",
    "ent.pack()\n",
    "\n",
    "btn = tk.Button(text='click', command=click)\n",
    "btn.pack()\n",
    "\n",
    "sc.mainloop()"
   ]
  }
 ],
 "metadata": {
  "kernelspec": {
   "display_name": ".venv (3.12.7)",
   "language": "python",
   "name": "python3"
  },
  "language_info": {
   "codemirror_mode": {
    "name": "ipython",
    "version": 3
   },
   "file_extension": ".py",
   "mimetype": "text/x-python",
   "name": "python",
   "nbconvert_exporter": "python",
   "pygments_lexer": "ipython3",
   "version": "3.12.7"
  }
 },
 "nbformat": 4,
 "nbformat_minor": 5
}
